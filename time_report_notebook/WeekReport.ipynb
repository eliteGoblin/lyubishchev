{
 "cells": [
  {
   "cell_type": "code",
   "execution_count": null,
   "id": "70e3e391",
   "metadata": {},
   "outputs": [],
   "source": [
    "import os\n",
    "import sys\n",
    "import numpy as np\n",
    "import arrow\n",
    "from icecream import ic\n",
    "\n",
    "module_path = os.path.abspath(os.path.join('.'))\n",
    "if module_path not in sys.path:\n",
    "    sys.path.append(module_path)\n",
    "    \n",
    "module_path = os.path.abspath(os.path.join('..'))\n",
    "if module_path not in sys.path:\n",
    "    sys.path.append(module_path)\n",
    "\n",
    "from lyubishchev import config\n",
    "from lyubishchev.cli import relative_week\n",
    "\n",
    "report = relative_week(0)"
   ]
  },
  {
   "cell_type": "code",
   "execution_count": null,
   "id": "aa98a71a",
   "metadata": {},
   "outputs": [],
   "source": [
    "from lyubishchev.report import get_duration_highlights\n",
    "df = get_duration_highlights(report)\n",
    "df"
   ]
  },
  {
   "cell_type": "code",
   "execution_count": null,
   "id": "e95ec38c",
   "metadata": {},
   "outputs": [],
   "source": [
    "from lyubishchev.report import get_habbits_highlight\n",
    "df_habbits = get_habbits_highlight(report)\n",
    "df_habbits"
   ]
  },
  {
   "cell_type": "code",
   "execution_count": null,
   "id": "afb35dc5",
   "metadata": {},
   "outputs": [],
   "source": [
    "from time_report_notebook.nb_helper_aggregate_time_intervals import sunburst_time_intervals\n",
    "\n",
    "\n",
    "night_sleep_minutes, nap_minutes = report.get_sleep_spans_minute()\n",
    "\n",
    "sunburst_time_intervals(\n",
    "    total_night_sleep_minutes=sum(night_sleep_minutes),\n",
    "    total_time_minutes=len(report.day_records) * 24 * 60,\n",
    "    time_intervals=report.get_time_intervals(),\n",
    ")"
   ]
  },
  {
   "cell_type": "code",
   "execution_count": null,
   "id": "9111c8e5",
   "metadata": {},
   "outputs": [],
   "source": [
    "from time_report_notebook.nb_helper_effective_output import (\n",
    "    sunburst_effective_output,\n",
    "    stack_bar_effective_output,\n",
    ")\n",
    "sunburst_effective_output(report)\n",
    "stack_bar_effective_output(report)"
   ]
  },
  {
   "cell_type": "code",
   "execution_count": null,
   "id": "c397c36d",
   "metadata": {},
   "outputs": [],
   "source": [
    "from time_report_notebook.nb_helper_util import stack_bar, sunburst_tree_depth_2_total_time\n",
    "\n",
    "\n",
    "sunburst_tree_depth_2_total_time(report=report, match_dict_key=\"regret\")\n",
    "stack_bar(report=report, match_dict_key=\"regret\")"
   ]
  },
  {
   "cell_type": "code",
   "execution_count": null,
   "id": "db9c114f",
   "metadata": {},
   "outputs": [],
   "source": [
    "# put sleep chart and wakeup bed timestamp plot together to find correlation\n",
    "from time_report_notebook.nb_helper_sleep import stack_bar_sleep_all\n",
    "from time_report_notebook.nb_helper_event import draw_wakeup_plot, draw_bed_plot\n",
    "from time_report_notebook.nb_helper_util import stack_bar, sunburst_tree_depth_2_total_time\n",
    "\n",
    "# sunburst_tree_depth_2_total_time(report=report, match_dict_key=\"sleep_all\")\n",
    "stack_bar_sleep_all(report)\n",
    "draw_wakeup_plot(report)\n",
    "draw_bed_plot(report)"
   ]
  },
  {
   "cell_type": "code",
   "execution_count": null,
   "id": "4eef2932",
   "metadata": {},
   "outputs": [],
   "source": [
    "sunburst_tree_depth_2_total_time(report=report, match_dict_key=\"exercise\")\n",
    "stack_bar(report=report, match_dict_key=\"exercise\")"
   ]
  },
  {
   "cell_type": "code",
   "execution_count": null,
   "id": "988dcf72",
   "metadata": {},
   "outputs": [],
   "source": [
    "sunburst_tree_depth_2_total_time(report=report, match_dict_key=\"sex_all\")\n",
    "stack_bar(report=report, match_dict_key=\"sex_all\")"
   ]
  },
  {
   "cell_type": "code",
   "execution_count": null,
   "id": "f6da38e6",
   "metadata": {},
   "outputs": [],
   "source": [
    "sunburst_tree_depth_2_total_time(report=report, match_dict_key=\"calm\")\n",
    "stack_bar(report=report, match_dict_key=\"calm\")"
   ]
  },
  {
   "cell_type": "code",
   "execution_count": null,
   "id": "81fbd66a",
   "metadata": {},
   "outputs": [],
   "source": [
    "sunburst_tree_depth_2_total_time(report=report, match_dict_key=\"intangible\")\n",
    "stack_bar(report=report, match_dict_key=\"intangible\")"
   ]
  },
  {
   "cell_type": "code",
   "execution_count": null,
   "id": "316977dc",
   "metadata": {},
   "outputs": [],
   "source": [
    "sunburst_tree_depth_2_total_time(report=report, match_dict_key=\"solitude\")\n",
    "stack_bar(report=report, match_dict_key=\"solitude\")"
   ]
  },
  {
   "cell_type": "code",
   "execution_count": null,
   "id": "fb681d94",
   "metadata": {},
   "outputs": [],
   "source": [
    "sunburst_tree_depth_2_total_time(report=report, match_dict_key=\"routine_all\")\n",
    "stack_bar(report=report, match_dict_key=\"routine_all\")"
   ]
  }
 ],
 "metadata": {
  "kernelspec": {
   "display_name": "Python 3 (ipykernel)",
   "language": "python",
   "name": "python3"
  },
  "language_info": {
   "codemirror_mode": {
    "name": "ipython",
    "version": 3
   },
   "file_extension": ".py",
   "mimetype": "text/x-python",
   "name": "python",
   "nbconvert_exporter": "python",
   "pygments_lexer": "ipython3",
   "version": "3.10.15"
  }
 },
 "nbformat": 4,
 "nbformat_minor": 5
}
