{
 "cells": [
  {
   "cell_type": "code",
   "execution_count": null,
   "id": "6d68088f",
   "metadata": {},
   "outputs": [],
   "source": [
    "import os\n",
    "import sys\n",
    "import numpy as np\n",
    "import arrow\n",
    "\n",
    "module_path = os.path.abspath(os.path.join('.'))\n",
    "if module_path not in sys.path:\n",
    "    sys.path.append(module_path)\n",
    "    \n",
    "module_path = os.path.abspath(os.path.join('..'))\n",
    "if module_path not in sys.path:\n",
    "    sys.path.append(module_path)\n",
    "\n",
    "from lyubishchev import config\n",
    "from lyubishchev.cli import relative_month\n",
    "\n",
    "report = relative_month(0)"
   ]
  },
  {
   "cell_type": "code",
   "execution_count": null,
   "id": "6b1ce5cc",
   "metadata": {},
   "outputs": [],
   "source": [
    "from lyubishchev.report import get_duration_highlights\n",
    "df = get_duration_highlights(report)\n",
    "df"
   ]
  },
  {
   "cell_type": "code",
   "execution_count": null,
   "id": "4f7f5138",
   "metadata": {},
   "outputs": [],
   "source": [
    "from lyubishchev.report import get_habbits_highlight\n",
    "df_habbits = get_habbits_highlight(report)\n",
    "df_habbits"
   ]
  },
  {
   "cell_type": "code",
   "execution_count": null,
   "id": "8e62991f",
   "metadata": {},
   "outputs": [],
   "source": [
    "from time_report_notebook.nb_helper_aggregate_time_intervals import sunburst_time_intervals\n",
    "\n",
    "\n",
    "night_sleep_minutes, nap_minutes = report.get_sleep_spans_minute()\n",
    "\n",
    "sunburst_time_intervals(\n",
    "    total_night_sleep_minutes=sum(night_sleep_minutes),\n",
    "    total_time_minutes=len(report.day_records) * 24 * 60,\n",
    "    time_intervals=report.get_time_intervals(),\n",
    ")"
   ]
  },
  {
   "cell_type": "code",
   "execution_count": null,
   "id": "b209afdc",
   "metadata": {},
   "outputs": [],
   "source": [
    "from time_report_notebook.nb_helper_effective_output import (\n",
    "    sunburst_effective_output,\n",
    "    stack_bar_effective_output,\n",
    ")\n",
    "sunburst_effective_output(report)\n",
    "stack_bar_effective_output(report)"
   ]
  },
  {
   "cell_type": "code",
   "execution_count": null,
   "id": "a3a1a900",
   "metadata": {},
   "outputs": [],
   "source": [
    "# put sleep chart and wakeup bed timestamp plot together to find correlation\n",
    "from time_report_notebook.nb_helper_sleep import stack_bar_sleep_all\n",
    "from time_report_notebook.nb_helper_event import draw_wakeup_plot, draw_bed_plot\n",
    "from time_report_notebook.nb_helper_util import stack_bar, sunburst_tree_depth_2_total_time\n",
    "\n",
    "# sunburst_tree_depth_2_total_time(report=report, match_dict_key=\"sleep_all\")\n",
    "stack_bar_sleep_all(report)\n",
    "draw_wakeup_plot(report)\n",
    "draw_bed_plot(report)"
   ]
  },
  {
   "cell_type": "code",
   "execution_count": null,
   "id": "0673e736",
   "metadata": {},
   "outputs": [],
   "source": [
    "sunburst_tree_depth_2_total_time(report=report, match_dict_key=\"exercise\")\n",
    "stack_bar(report=report, match_dict_key=\"exercise\")"
   ]
  },
  {
   "cell_type": "code",
   "execution_count": null,
   "id": "59742996",
   "metadata": {},
   "outputs": [],
   "source": [
    "sunburst_tree_depth_2_total_time(report=report, match_dict_key=\"sex_all\")\n",
    "stack_bar(report=report, match_dict_key=\"sex_all\")"
   ]
  },
  {
   "cell_type": "code",
   "execution_count": null,
   "id": "65899756",
   "metadata": {},
   "outputs": [],
   "source": [
    "sunburst_tree_depth_2_total_time(report=report, match_dict_key=\"calm\")\n",
    "stack_bar(report=report, match_dict_key=\"calm\")"
   ]
  },
  {
   "cell_type": "code",
   "execution_count": null,
   "id": "d9d519e9",
   "metadata": {},
   "outputs": [],
   "source": [
    "sunburst_tree_depth_2_total_time(report=report, match_dict_key=\"intangible\")\n",
    "stack_bar(report=report, match_dict_key=\"intangible\")"
   ]
  },
  {
   "cell_type": "code",
   "execution_count": null,
   "id": "44a24731",
   "metadata": {},
   "outputs": [],
   "source": [
    "sunburst_tree_depth_2_total_time(report=report, match_dict_key=\"regret\")\n",
    "stack_bar(report=report, match_dict_key=\"regret\")"
   ]
  },
  {
   "cell_type": "code",
   "execution_count": null,
   "id": "4d5bd77e",
   "metadata": {},
   "outputs": [],
   "source": [
    "sunburst_tree_depth_2_total_time(report=report, match_dict_key=\"solitude\")\n",
    "stack_bar(report=report, match_dict_key=\"solitude\")"
   ]
  },
  {
   "cell_type": "code",
   "execution_count": null,
   "id": "1756d670",
   "metadata": {},
   "outputs": [],
   "source": [
    "sunburst_tree_depth_2_total_time(report=report, match_dict_key=\"routine_all\")\n",
    "stack_bar(report=report, match_dict_key=\"routine_all\")"
   ]
  },
  {
   "cell_type": "code",
   "execution_count": null,
   "id": "492a89f1-b1e9-49f7-b8b0-8d870337e177",
   "metadata": {},
   "outputs": [],
   "source": []
  }
 ],
 "metadata": {
  "kernelspec": {
   "display_name": "Python 3 (ipykernel)",
   "language": "python",
   "name": "python3"
  },
  "language_info": {
   "codemirror_mode": {
    "name": "ipython",
    "version": 3
   },
   "file_extension": ".py",
   "mimetype": "text/x-python",
   "name": "python",
   "nbconvert_exporter": "python",
   "pygments_lexer": "ipython3",
   "version": "3.10.12"
  }
 },
 "nbformat": 4,
 "nbformat_minor": 5
}
