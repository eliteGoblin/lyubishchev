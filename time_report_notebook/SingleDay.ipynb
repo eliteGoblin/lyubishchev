{
 "cells": [
  {
   "cell_type": "code",
   "execution_count": null,
   "id": "86e83063",
   "metadata": {},
   "outputs": [],
   "source": [
    "import os\n",
    "import sys\n",
    "import numpy as np\n",
    "import arrow\n",
    "from icecream import ic\n",
    "\n",
    "module_path = os.path.abspath(os.path.join('.'))\n",
    "if module_path not in sys.path:\n",
    "    sys.path.append(module_path)\n",
    "    \n",
    "module_path = os.path.abspath(os.path.join('..'))\n",
    "if module_path not in sys.path:\n",
    "    sys.path.append(module_path)\n",
    "\n",
    "from lyubishchev import config\n",
    "from lyubishchev.cli import last, fetch_time_intervals_events_since_wakeup\n",
    "\n",
    "from time_report_notebook.nb_helper_aggregate_time_intervals import (\n",
    "    sunburst_time_intervals, \n",
    "    gantt_time_intervals, \n",
    "    sunburst_time_intervals_single_day,\n",
    ")\n",
    "\n",
    "now_timestamp = arrow.now(config.get_iana_timezone_name())\n",
    "time_intervals, events = fetch_time_intervals_events_since_wakeup(now_timestamp)\n",
    "\n",
    "total_minutes_since_wakeup = (now_timestamp - events[0].timestamp).total_seconds() // 60 \n",
    "\n",
    "sunburst_time_intervals(\n",
    "    total_time_minutes=total_minutes_since_wakeup,\n",
    "    time_intervals=time_intervals,\n",
    ")"
   ]
  },
  {
   "cell_type": "code",
   "execution_count": null,
   "id": "36dd1e7d",
   "metadata": {},
   "outputs": [],
   "source": [
    "gantt_time_intervals(time_intervals)"
   ]
  },
  {
   "cell_type": "code",
   "execution_count": null,
   "id": "89d54c99",
   "metadata": {},
   "outputs": [],
   "source": [
    "report = last(2)\n",
    "sunburst_time_intervals_single_day(report, -1) # yesterday"
   ]
  },
  {
   "cell_type": "code",
   "execution_count": null,
   "id": "4b4a8658",
   "metadata": {},
   "outputs": [],
   "source": [
    "gantt_time_intervals(report.day_records[-1].time_intervals)"
   ]
  },
  {
   "cell_type": "code",
   "execution_count": null,
   "id": "3e50eb59",
   "metadata": {},
   "outputs": [],
   "source": [
    "sunburst_time_intervals_single_day(report, -2) # the day before yesterday"
   ]
  },
  {
   "cell_type": "code",
   "execution_count": null,
   "id": "c026a602",
   "metadata": {},
   "outputs": [],
   "source": [
    "gantt_time_intervals(report.day_records[-2].time_intervals)"
   ]
  }
 ],
 "metadata": {
  "kernelspec": {
   "display_name": "Python 3 (ipykernel)",
   "language": "python",
   "name": "python3"
  },
  "language_info": {
   "codemirror_mode": {
    "name": "ipython",
    "version": 3
   },
   "file_extension": ".py",
   "mimetype": "text/x-python",
   "name": "python",
   "nbconvert_exporter": "python",
   "pygments_lexer": "ipython3",
   "version": "3.10.6"
  }
 },
 "nbformat": 4,
 "nbformat_minor": 5
}
