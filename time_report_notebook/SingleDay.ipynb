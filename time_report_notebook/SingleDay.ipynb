{
 "cells": [
  {
   "cell_type": "code",
   "execution_count": null,
   "id": "f01c5b40-8832-4c10-bc4b-1eb2edf0d4dd",
   "metadata": {},
   "outputs": [],
   "source": [
    "import os\n",
    "import sys\n",
    "import numpy as np\n",
    "import arrow\n",
    "from icecream import ic\n",
    "\n",
    "module_path = os.path.abspath(os.path.join('.'))\n",
    "if module_path not in sys.path:\n",
    "    sys.path.append(module_path)\n",
    "    \n",
    "module_path = os.path.abspath(os.path.join('..'))\n",
    "if module_path not in sys.path:\n",
    "    sys.path.append(module_path)\n",
    "\n",
    "from lyubishchev import config\n",
    "from lyubishchev.cli import last, fetch_time_intervals_events_since_wakeup\n",
    "\n",
    "from time_report_notebook.nb_helper_aggregate_time_intervals import (\n",
    "    sunburst_time_intervals, \n",
    "    gantt_time_intervals, \n",
    "    sunburst_time_intervals_single_day,\n",
    ")\n",
    "\n",
    "now_timestamp = arrow.now(config.get_iana_timezone_name())\n",
    "time_intervals, events = fetch_time_intervals_events_since_wakeup(now_timestamp)\n",
    "\n",
    "total_minutes_since_wakeup = (now_timestamp - events[0].timestamp).total_seconds() // 60 \n",
    "\n"
   ]
  },
  {
   "cell_type": "code",
   "execution_count": null,
   "id": "36dd1e7d",
   "metadata": {},
   "outputs": [],
   "source": [
    "ic(arrow.now().format('ddd'))\n",
    "sunburst_time_intervals(\n",
    "    total_time_minutes=total_minutes_since_wakeup,\n",
    "    time_intervals=time_intervals,\n",
    ")\n",
    "gantt_time_intervals(time_intervals)"
   ]
  },
  {
   "cell_type": "code",
   "execution_count": null,
   "id": "89d54c99",
   "metadata": {},
   "outputs": [],
   "source": [
    "report = last(5)\n",
    "ic(report.day_records[-1].wakeup_timestamp.format('ddd'))\n",
    "sunburst_time_intervals_single_day(report, -1) # yesterday\n",
    "gantt_time_intervals(report.day_records[-1].time_intervals)"
   ]
  },
  {
   "cell_type": "code",
   "execution_count": null,
   "id": "3e50eb59",
   "metadata": {},
   "outputs": [],
   "source": [
    "day_offset = -2\n",
    "ic(report.day_records[day_offset].wakeup_timestamp.format('ddd'))\n",
    "sunburst_time_intervals_single_day(report, day_offset) # the day before yesterday\n",
    "gantt_time_intervals(report.day_records[day_offset].time_intervals)"
   ]
  },
  {
   "cell_type": "code",
   "execution_count": null,
   "id": "a3228374",
   "metadata": {},
   "outputs": [],
   "source": [
    "day_offset = -3\n",
    "ic(report.day_records[day_offset].wakeup_timestamp.format('ddd'))\n",
    "sunburst_time_intervals_single_day(report, day_offset) # the day before yesterday\n",
    "gantt_time_intervals(report.day_records[day_offset].time_intervals)"
   ]
  },
  {
   "cell_type": "code",
   "execution_count": null,
   "id": "9a9652b3",
   "metadata": {},
   "outputs": [],
   "source": [
    "day_offset = -4\n",
    "ic(report.day_records[day_offset].wakeup_timestamp.format('ddd'))\n",
    "sunburst_time_intervals_single_day(report, day_offset) # the day before yesterday\n",
    "gantt_time_intervals(report.day_records[day_offset].time_intervals)"
   ]
  }
 ],
 "metadata": {
  "kernelspec": {
   "display_name": "Python 3 (ipykernel)",
   "language": "python",
   "name": "python3"
  },
  "language_info": {
   "codemirror_mode": {
    "name": "ipython",
    "version": 3
   },
   "file_extension": ".py",
   "mimetype": "text/x-python",
   "name": "python",
   "nbconvert_exporter": "python",
   "pygments_lexer": "ipython3",
   "version": "3.10.15"
  }
 },
 "nbformat": 4,
 "nbformat_minor": 5
}
