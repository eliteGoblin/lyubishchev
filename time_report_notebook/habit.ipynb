{
 "cells": [
  {
   "cell_type": "code",
   "execution_count": null,
   "id": "4eda120f-c79b-459b-bb63-cfc6a28672f1",
   "metadata": {},
   "outputs": [],
   "source": [
    "import os\n",
    "import sys\n",
    "import numpy as np\n",
    "import arrow\n",
    "from icecream import ic\n",
    "\n",
    "module_path = os.path.abspath(os.path.join(\".\"))\n",
    "if module_path not in sys.path:\n",
    "    sys.path.append(module_path)\n",
    "\n",
    "module_path = os.path.abspath(os.path.join(\"..\"))\n",
    "if module_path not in sys.path:\n",
    "    sys.path.append(module_path)\n",
    "\n",
    "import calplot\n",
    "\n",
    "from lyubishchev import config\n",
    "from lyubishchev.cli import last\n",
    "from lyubishchev.habit import (\n",
    "    TimeIntervalHabit,\n",
    "    TimeIntervalCounterHabit,\n",
    "    GetupHabit,\n",
    "    BedHabit,\n",
    "    TimeIntervalOneofHabit,\n",
    ")\n",
    "\n",
    "import logging\n",
    "import matplotlib\n",
    "\n",
    "matplotlib.set_loglevel(\"error\")  # or \"warning\" if you just want fewer messages\n",
    "\n",
    "\n",
    "report = last(120)"
   ]
  },
  {
   "cell_type": "code",
   "execution_count": null,
   "id": "6dee1ad6-8c4a-42df-8789-54ba8410bca1",
   "metadata": {},
   "outputs": [],
   "source": [
    "calplot.calplot(\n",
    "    GetupHabit(report=report, target_time=\"07:00\").data(),\n",
    "    cmap=\"RdYlGn\",\n",
    "    vmin=-100,\n",
    "    vmax=100,\n",
    "    colorbar=True,\n",
    "    dropzero=True,\n",
    "    suptitle=\"7AM Club\",\n",
    ");"
   ]
  },
  {
   "cell_type": "code",
   "execution_count": null,
   "id": "2syksi2auha",
   "metadata": {},
   "outputs": [],
   "source": [
    "calplot.calplot(\n",
    "    BedHabit(report=report, target_time=\"21:00\").data(),\n",
    "    cmap=\"RdYlGn\",\n",
    "    vmin=-100,\n",
    "    vmax=100,\n",
    "    colorbar=True,\n",
    "    dropzero=True,\n",
    "    suptitle=\"Bedtime Habit (Target: 9PM)\",\n",
    ");"
   ]
  },
  {
   "cell_type": "code",
   "execution_count": null,
   "id": "7d424a00-a0de-41a0-aa7c-157cdf2f8434",
   "metadata": {},
   "outputs": [],
   "source": [
    "calplot.calplot(\n",
    "    TimeIntervalHabit(report=report, key=\"diary\").data(),\n",
    "    cmap=\"YlGn\",\n",
    "    colorbar=True,\n",
    "    dropzero=True,\n",
    "    suptitle=\"Diary\",\n",
    ");"
   ]
  },
  {
   "cell_type": "code",
   "execution_count": null,
   "id": "0049b12e-483c-4cf0-af67-7ce51fee4009",
   "metadata": {},
   "outputs": [],
   "source": [
    "calplot.calplot(\n",
    "    TimeIntervalHabit(report=report, key=\"swim\").data(),\n",
    "    cmap=\"YlGn\",\n",
    "    colorbar=True,\n",
    "    dropzero=True,\n",
    "    suptitle=\"Swim\",\n",
    ");"
   ]
  },
  {
   "cell_type": "code",
   "execution_count": null,
   "id": "86a4ed02-572c-40ad-8e32-6d2ce12474bd",
   "metadata": {},
   "outputs": [],
   "source": [
    "calplot.calplot(\n",
    "    TimeIntervalCounterHabit(report=report, key=\"sex\").data(),\n",
    "    cmap=\"YlGn\",\n",
    "    colorbar=True,\n",
    "    dropzero=True,\n",
    "    suptitle=\"Sex\",\n",
    ");"
   ]
  },
  {
   "cell_type": "code",
   "execution_count": null,
   "id": "c32f7b1f-ce76-4e17-ab57-9b1df2de8d03",
   "metadata": {},
   "outputs": [],
   "source": [
    "calplot.calplot(\n",
    "    TimeIntervalHabit(report=report, key=\"meditation\").data(),\n",
    "    cmap=\"YlGn\",\n",
    "    vmax=10,\n",
    "    colorbar=True,\n",
    "    dropzero=True,\n",
    "    suptitle=\"Meditation\",\n",
    ");"
   ]
  },
  {
   "cell_type": "code",
   "execution_count": null,
   "id": "00355007-8809-4d09-85a7-83d2826b931b",
   "metadata": {},
   "outputs": [],
   "source": [
    "calplot.calplot(\n",
    "    TimeIntervalHabit(report=report, key=\"anaerobic\").data(),\n",
    "    cmap=\"YlGn\",\n",
    "    vmin=0,\n",
    "    vmax=90,\n",
    "    colorbar=True,\n",
    "    dropzero=True,\n",
    "    suptitle=\"Anaerobic\",\n",
    ");"
   ]
  },
  {
   "cell_type": "code",
   "execution_count": null,
   "id": "f71d6d6d-8228-4a91-aa3e-c25a8ed33403",
   "metadata": {},
   "outputs": [],
   "source": [
    "calplot.calplot(\n",
    "    TimeIntervalOneofHabit(report=report, keys=[\"reading\", \"audible\"]).data(),\n",
    "    cmap=\"YlGn\",\n",
    "    vmin=0,\n",
    "    vmax=90,\n",
    "    colorbar=True,\n",
    "    dropzero=True,\n",
    "    suptitle=\"ReadingSelfHelp\",\n",
    ");"
   ]
  },
  {
   "cell_type": "code",
   "execution_count": null,
   "id": "c1baec48-be26-416a-b768-e63e90457b88",
   "metadata": {},
   "outputs": [],
   "source": [
    "calplot.calplot(\n",
    "    TimeIntervalOneofHabit(report=report, keys=[\"software\"]).data(),\n",
    "    cmap=\"YlGn\",\n",
    "    vmin=0,\n",
    "    vmax=90,\n",
    "    colorbar=True,\n",
    "    dropzero=True,\n",
    "    suptitle=\"LearnTech\",\n",
    ");"
   ]
  },
  {
   "cell_type": "code",
   "execution_count": null,
   "id": "9180dc23-3888-48c7-86ba-e535e465dfe7",
   "metadata": {},
   "outputs": [],
   "source": [
    "calplot.calplot(\n",
    "    TimeIntervalHabit(report=report, key=\"oj\").data(),\n",
    "    cmap=\"YlGn\",\n",
    "    vmin=0,\n",
    "    vmax=45,\n",
    "    colorbar=True,\n",
    "    dropzero=True,\n",
    "    suptitle=\"OJ\",\n",
    ");"
   ]
  },
  {
   "cell_type": "code",
   "execution_count": null,
   "id": "2b935d38-03dd-4f5f-ad71-50c048470249",
   "metadata": {},
   "outputs": [],
   "source": [
    "calplot.calplot(\n",
    "    TimeIntervalHabit(report=report, key=\"dance\").data(),\n",
    "    cmap=\"YlGn\",\n",
    "    vmin=0,\n",
    "    vmax=45,\n",
    "    colorbar=True,\n",
    "    dropzero=True,\n",
    "    suptitle=\"Dance\",\n",
    ");"
   ]
  },
  {
   "cell_type": "code",
   "execution_count": null,
   "id": "75f70edf-cfeb-46ef-82ad-f91361a2384d",
   "metadata": {},
   "outputs": [],
   "source": [
    "calplot.calplot(\n",
    "    TimeIntervalOneofHabit(report=report, keys=[\"quarrel\", \"bicker\"]).data(),\n",
    "    cmap=\"Reds\",\n",
    "    vmin=0,\n",
    "    vmax=180,\n",
    "    colorbar=True,\n",
    "    dropzero=True,\n",
    "    suptitle=\"Quarrel\",\n",
    ");"
   ]
  },
  {
   "cell_type": "code",
   "execution_count": null,
   "id": "83abdf09-14e7-40d3-8307-06b287ebefc7",
   "metadata": {},
   "outputs": [],
   "source": [
    "calplot.calplot(\n",
    "    TimeIntervalHabit(report=report, key=\"porn\").data(),\n",
    "    cmap=\"Reds\",\n",
    "    vmin=0,\n",
    "    vmax=180,\n",
    "    colorbar=True,\n",
    "    dropzero=True,\n",
    "    suptitle=\"Porn\",\n",
    ");"
   ]
  },
  {
   "cell_type": "code",
   "execution_count": null,
   "id": "89c627e3-a44e-4e3e-9ce4-2f66b956fb5f",
   "metadata": {},
   "outputs": [],
   "source": [
    "calplot.calplot(\n",
    "    TimeIntervalHabit(report=report, key=\"video\").data(),\n",
    "    cmap=\"Reds\",\n",
    "    vmin=0,\n",
    "    vmax=180,\n",
    "    colorbar=True,\n",
    "    dropzero=True,\n",
    "    suptitle=\"Video\",\n",
    ");"
   ]
  },
  {
   "cell_type": "code",
   "execution_count": null,
   "id": "6cd48fdc-8d07-446d-9523-c3d2930b2292",
   "metadata": {},
   "outputs": [],
   "source": [
    "calplot.calplot(\n",
    "    TimeIntervalHabit(report=report, key=\"game\").data(),\n",
    "    cmap=\"Reds\",\n",
    "    vmin=0,\n",
    "    vmax=180,\n",
    "    colorbar=True,\n",
    "    dropzero=True,\n",
    "    suptitle=\"Game\",\n",
    ");"
   ]
  }
 ],
 "metadata": {
  "kernelspec": {
   "display_name": "Python 3 (ipykernel)",
   "language": "python",
   "name": "python3"
  },
  "language_info": {
   "codemirror_mode": {
    "name": "ipython",
    "version": 3
   },
   "file_extension": ".py",
   "mimetype": "text/x-python",
   "name": "python",
   "nbconvert_exporter": "python",
   "pygments_lexer": "ipython3",
   "version": "3.12.3"
  }
 },
 "nbformat": 4,
 "nbformat_minor": 5
}
