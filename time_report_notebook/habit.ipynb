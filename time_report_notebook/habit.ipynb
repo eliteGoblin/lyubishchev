{
 "cells": [
  {
   "cell_type": "code",
   "execution_count": null,
   "id": "4eda120f-c79b-459b-bb63-cfc6a28672f1",
   "metadata": {},
   "outputs": [],
   "source": [
    "import os\n",
    "import sys\n",
    "import numpy as np\n",
    "import arrow\n",
    "from icecream import ic\n",
    "\n",
    "module_path = os.path.abspath(os.path.join('.'))\n",
    "if module_path not in sys.path:\n",
    "    sys.path.append(module_path)\n",
    "    \n",
    "module_path = os.path.abspath(os.path.join('..'))\n",
    "if module_path not in sys.path:\n",
    "    sys.path.append(module_path)\n",
    "\n",
    "import calplot\n",
    "\n",
    "from lyubishchev import config\n",
    "from lyubishchev.cli import last\n",
    "from lyubishchev.habit import TimeIntervalHabit, TimeIntervalCounterHabit, GetupHabit, TimeIntervalOneofHabit\n",
    "\n",
    "report = last(60)"
   ]
  },
  {
   "cell_type": "code",
   "execution_count": null,
   "id": "6dee1ad6-8c4a-42df-8789-54ba8410bca1",
   "metadata": {},
   "outputs": [],
   "source": [
    "calplot.calplot(GetupHabit(report=report, target_time=\"07:00\").data(), cmap='RdYlGn', colorbar=True, dropzero=True, suptitle=\"7AM Club\");"
   ]
  },
  {
   "cell_type": "code",
   "execution_count": null,
   "id": "7d424a00-a0de-41a0-aa7c-157cdf2f8434",
   "metadata": {},
   "outputs": [],
   "source": [
    "calplot.calplot(TimeIntervalHabit(report=report, key=\"diary\").data(), cmap='YlGn', colorbar=True, dropzero=True, suptitle=\"Diary\");"
   ]
  },
  {
   "cell_type": "code",
   "execution_count": null,
   "id": "0049b12e-483c-4cf0-af67-7ce51fee4009",
   "metadata": {},
   "outputs": [],
   "source": [
    "calplot.calplot(TimeIntervalHabit(report=report, key=\"swim\").data(), cmap='YlGn', colorbar=True, dropzero=True, suptitle=\"Swim\");"
   ]
  },
  {
   "cell_type": "code",
   "execution_count": null,
   "id": "86a4ed02-572c-40ad-8e32-6d2ce12474bd",
   "metadata": {},
   "outputs": [],
   "source": [
    "calplot.calplot(TimeIntervalCounterHabit(report=report, key=\"sex\").data(), cmap='YlGn', colorbar=True, dropzero=True, suptitle=\"Sex\");"
   ]
  },
  {
   "cell_type": "code",
   "execution_count": null,
   "id": "c32f7b1f-ce76-4e17-ab57-9b1df2de8d03",
   "metadata": {},
   "outputs": [],
   "source": [
    "calplot.calplot(TimeIntervalHabit(report=report, key=\"meditation\").data(), cmap='YlGn', vmax=10, colorbar=True, dropzero=True, suptitle=\"Meditation\");"
   ]
  },
  {
   "cell_type": "code",
   "execution_count": null,
   "id": "00355007-8809-4d09-85a7-83d2826b931b",
   "metadata": {},
   "outputs": [],
   "source": [
    "calplot.calplot(TimeIntervalHabit(report=report, key=\"anaerobic\").data(), cmap='YlGn', vmin=0, vmax=90, colorbar=True, dropzero=True, suptitle=\"Anaerobic\");"
   ]
  },
  {
   "cell_type": "code",
   "execution_count": null,
   "id": "f71d6d6d-8228-4a91-aa3e-c25a8ed33403",
   "metadata": {},
   "outputs": [],
   "source": [
    "calplot.calplot(TimeIntervalOneofHabit(report=report, keys=[\"reading\", \"audible\"]).data(), cmap='YlGn', vmin=0, vmax=90, colorbar=True, dropzero=True, suptitle=\"ReadingSelfHelp\");"
   ]
  },
  {
   "cell_type": "code",
   "execution_count": null,
   "id": "c1baec48-be26-416a-b768-e63e90457b88",
   "metadata": {},
   "outputs": [],
   "source": [
    "calplot.calplot(TimeIntervalOneofHabit(report=report, keys=[\"software\"]).data(), cmap='YlGn', vmin=0, vmax=90, colorbar=True, dropzero=True, suptitle=\"LearnTech\");"
   ]
  },
  {
   "cell_type": "code",
   "execution_count": null,
   "id": "9180dc23-3888-48c7-86ba-e535e465dfe7",
   "metadata": {},
   "outputs": [],
   "source": [
    "calplot.calplot(TimeIntervalHabit(report=report, key=\"oj\").data(), cmap='YlGn', vmin=0, vmax=45, colorbar=True, dropzero=True, suptitle=\"OJ\");"
   ]
  },
  {
   "cell_type": "code",
   "execution_count": null,
   "id": "89c627e3-a44e-4e3e-9ce4-2f66b956fb5f",
   "metadata": {},
   "outputs": [],
   "source": [
    "calplot.calplot(TimeIntervalHabit(report=report, key=\"video\").data(), cmap='Reds', vmax=180, colorbar=True, dropzero=True, suptitle=\"Video\");"
   ]
  },
  {
   "cell_type": "code",
   "execution_count": null,
   "id": "6cd48fdc-8d07-446d-9523-c3d2930b2292",
   "metadata": {},
   "outputs": [],
   "source": [
    "calplot.calplot(TimeIntervalHabit(report=report, key=\"game\").data(), cmap='Reds', vmax=180, colorbar=True, dropzero=True, suptitle=\"Game\");"
   ]
  }
 ],
 "metadata": {
  "kernelspec": {
   "display_name": "Python 3 (ipykernel)",
   "language": "python",
   "name": "python3"
  },
  "language_info": {
   "codemirror_mode": {
    "name": "ipython",
    "version": 3
   },
   "file_extension": ".py",
   "mimetype": "text/x-python",
   "name": "python",
   "nbconvert_exporter": "python",
   "pygments_lexer": "ipython3",
   "version": "3.10.15"
  }
 },
 "nbformat": 4,
 "nbformat_minor": 5
}
