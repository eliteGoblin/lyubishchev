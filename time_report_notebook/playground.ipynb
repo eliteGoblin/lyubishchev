{
 "cells": [
  {
   "cell_type": "code",
   "execution_count": null,
   "id": "8ce10734",
   "metadata": {},
   "outputs": [],
   "source": [
    "import plotly.graph_objects as go\n",
    "from IPython.display import display, HTML\n",
    "\n",
    "# Sample data\n",
    "x = [1, 2, 3]\n",
    "y = [4, 5, 6]\n",
    "\n",
    "# Create a bar chart\n",
    "fig = go.Figure(go.Bar(x=x, y=y))\n",
    "\n",
    "# Set the layout attributes\n",
    "fig.update_layout(\n",
    "    title='My Plot',\n",
    "    xaxis_title='X Axis',\n",
    "    yaxis_title='Y Axis',\n",
    "    width='100%',\n",
    "    height='100%',\n",
    "    margin=dict(l=50, r=50, b=100, t=100, pad=4)\n",
    ")"
   ]
  },
  {
   "cell_type": "code",
   "execution_count": null,
   "id": "05b15e3c",
   "metadata": {},
   "outputs": [],
   "source": []
  }
 ],
 "metadata": {
  "kernelspec": {
   "display_name": "Python 3 (ipykernel)",
   "language": "python",
   "name": "python3"
  },
  "language_info": {
   "codemirror_mode": {
    "name": "ipython",
    "version": 3
   },
   "file_extension": ".py",
   "mimetype": "text/x-python",
   "name": "python",
   "nbconvert_exporter": "python",
   "pygments_lexer": "ipython3",
   "version": "3.10.6"
  }
 },
 "nbformat": 4,
 "nbformat_minor": 5
}
