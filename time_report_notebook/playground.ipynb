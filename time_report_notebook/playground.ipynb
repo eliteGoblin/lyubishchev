{
 "cells": [
  {
   "cell_type": "code",
   "execution_count": null,
   "id": "a28ea18f",
   "metadata": {},
   "outputs": [],
   "source": [
    "import plotly.graph_objects as go\n",
    "\n",
    "fig =go.Figure(go.Sunburst(\n",
    "    labels=[\"Eve\", \"Cain\", \"Seth\", \"Enos\", \"Noam\", \"Abel\", \"Awan\", \"Enoch\", \"Azura\"],\n",
    "    parents=[\"\", \"Eve\", \"Eve\", \"Seth\", \"Seth\", \"Eve\", \"Eve\", \"Awan\", \"Eve\" ],\n",
    "    values=[10, 14, 12, 10, 2, 6, 6, 4, 4],\n",
    "    textinfo='label+percent entry'\n",
    "))\n",
    "# Update layout for tight margin\n",
    "# See https://plot.ly/python/creating-and-updating-figures/\n",
    "fig.update_layout(margin = dict(t=0, l=0, r=0, b=0))\n",
    "fig.show()\n",
    "\n",
    "print(\"aaa\")"
   ]
  },
  {
   "cell_type": "code",
   "execution_count": null,
   "id": "80ed6bae",
   "metadata": {},
   "outputs": [],
   "source": [
    "import plotly.express as px\n",
    "\n",
    "long_df = px.data.medals_long()\n",
    "\n",
    "fig = px.bar(long_df, x=\"nation\", y=\"count\", color=\"medal\", title=\"Long-Form Input\")\n",
    "fig.show()"
   ]
  },
  {
   "cell_type": "code",
   "execution_count": null,
   "id": "28464e4a",
   "metadata": {},
   "outputs": [],
   "source": [
    "long_df"
   ]
  },
  {
   "cell_type": "code",
   "execution_count": null,
   "id": "7a45b8c4",
   "metadata": {},
   "outputs": [],
   "source": [
    "import pandas as pd\n",
    "\n",
    "data = {\n",
    "    'column1': [1, 2, 3, 4],\n",
    "    'column2': ['A', 'B', 'C', 'D']\n",
    "}\n",
    "\n",
    "my_dataframe = pd.DataFrame(data)\n",
    "\n",
    "my_dataframe"
   ]
  },
  {
   "cell_type": "code",
   "execution_count": null,
   "id": "0b1ad1a5",
   "metadata": {},
   "outputs": [],
   "source": [
    "data = [\n",
    "    {'nation': 'Canada', 'year': 2014, 'medal': 'gold', 'count': 10},\n",
    "    {'nation': 'Canada', 'year': 2014, 'medal': 'silver', 'count': 10},\n",
    "    {'nation': 'Canada', 'year': 2014, 'medal': 'bronze', 'count': 5},\n",
    "    {'nation': 'United States', 'year': 2014, 'medal': 'gold', 'count': 9},\n",
    "    {'nation': 'United States', 'year': 2014, 'medal': 'silver', 'count': 7},\n",
    "    {'nation': 'United States', 'year': 2014, 'medal': 'bronze', 'count': 12},\n",
    "    {'nation': 'Russia', 'year': 2014, 'medal': 'gold', 'count': 13},\n",
    "    {'nation': 'Russia', 'year': 2014, 'medal': 'silver', 'count': 11},\n",
    "    {'nation': 'Russia', 'year': 2014, 'medal': 'bronze', 'count': 9}\n",
    "]\n",
    "my_dataframe = pd.DataFrame(data)\n",
    "\n",
    "my_dataframe"
   ]
  },
  {
   "cell_type": "code",
   "execution_count": null,
   "id": "b3fdf253",
   "metadata": {},
   "outputs": [],
   "source": [
    "import pandas as pd\n",
    "import plotly.express as px\n",
    "\n",
    "data = [\n",
    "    {'weekday': 'Monday', 'exercise': 'jog', 'minutes': 10},\n",
    "    {'weekday': 'Monday', 'exercise': 'gym', 'minutes': 10},\n",
    "    {'weekday': 'Tuesday', 'exercise': 'swim', 'minutes': 10},\n",
    "    {'weekday': 'Wednesday', 'exercise': 'swim', 'minutes': 10},\n",
    "    {'weekday': 'Wednesday', 'exercise': 'gym', 'minutes': 20},\n",
    "]\n",
    "\n",
    "exercise_df = pd.DataFrame(data)\n",
    "\n",
    "category_order = {'weekday': ['Monday', 'Tuesday', 'Wednesday']}\n",
    "\n",
    "fig = px.bar(\n",
    "    exercise_df,\n",
    "    x='weekday',\n",
    "    y='minutes',\n",
    "    color='exercise',\n",
    "    text='minutes',\n",
    "    title='Exercise Duration by Weekday',\n",
    "    labels={'weekday': 'Weekday', 'minutes': 'Minutes'},\n",
    "    category_orders=category_order\n",
    ")\n",
    "\n",
    "fig.show()\n"
   ]
  },
  {
   "cell_type": "code",
   "execution_count": null,
   "id": "3ec8dd19",
   "metadata": {},
   "outputs": [],
   "source": []
  }
 ],
 "metadata": {
  "kernelspec": {
   "display_name": "Python 3 (ipykernel)",
   "language": "python",
   "name": "python3"
  },
  "language_info": {
   "codemirror_mode": {
    "name": "ipython",
    "version": 3
   },
   "file_extension": ".py",
   "mimetype": "text/x-python",
   "name": "python",
   "nbconvert_exporter": "python",
   "pygments_lexer": "ipython3",
   "version": "3.10.6"
  }
 },
 "nbformat": 4,
 "nbformat_minor": 5
}
