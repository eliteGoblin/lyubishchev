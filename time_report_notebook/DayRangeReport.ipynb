{
 "cells": [
  {
   "cell_type": "code",
   "execution_count": null,
   "id": "86dfea8b",
   "metadata": {
    "scrolled": true
   },
   "outputs": [],
   "source": [
    "import os\n",
    "import sys\n",
    "import numpy as np\n",
    "from icecream import ic\n",
    "\n",
    "module_path = os.path.abspath(os.path.join('.'))\n",
    "if module_path not in sys.path:\n",
    "    sys.path.append(module_path)\n",
    "    \n",
    "module_path = os.path.abspath(os.path.join('..'))\n",
    "if module_path not in sys.path:\n",
    "    sys.path.append(module_path)\n",
    "\n",
    "from lyubishchev.cli import last\n",
    "\n",
    "report = last(14)"
   ]
  },
  {
   "cell_type": "code",
   "execution_count": null,
   "id": "3dccb554",
   "metadata": {},
   "outputs": [],
   "source": [
    "from IPython.core.display import HTML as Center\n",
    "\n",
    "Center(\"\"\" <style>\n",
    ".output_png {\n",
    "    display: table-cell;\n",
    "    text-align: center;\n",
    "    vertical-align: middle;\n",
    "}\n",
    ".output_html {\n",
    "    display: table-cell;\n",
    "    text-align: center;\n",
    "    vertical-align: middle;\n",
    "}\n",
    "</style> \"\"\")"
   ]
  },
  {
   "cell_type": "code",
   "execution_count": null,
   "id": "1ba93272",
   "metadata": {},
   "outputs": [],
   "source": [
    "from lyubishchev.report import get_duration_highlights\n",
    "df = get_duration_highlights(report)\n",
    "df"
   ]
  },
  {
   "cell_type": "code",
   "execution_count": null,
   "id": "a3272fc1",
   "metadata": {},
   "outputs": [],
   "source": [
    "from lyubishchev.report import get_habbits_highlight\n",
    "df_habbits = get_habbits_highlight(report)\n",
    "df_habbits"
   ]
  },
  {
   "cell_type": "code",
   "execution_count": null,
   "id": "8357be2e",
   "metadata": {},
   "outputs": [],
   "source": [
    "from time_report_notebook import show_time_intervals_stat_as_piechart\n",
    "show_time_intervals_stat_as_piechart(report)"
   ]
  },
  {
   "cell_type": "code",
   "execution_count": null,
   "id": "6bd47da4",
   "metadata": {},
   "outputs": [],
   "source": [
    "from time_report_notebook.nb_helper_effective_output import (\n",
    "    sunburst_effective_output,\n",
    "    stack_bar_effective_output,\n",
    ")\n",
    "sunburst_effective_output(report)\n",
    "stack_bar_effective_output(report)"
   ]
  },
  {
   "cell_type": "code",
   "execution_count": null,
   "id": "2993d676",
   "metadata": {},
   "outputs": [],
   "source": [
    "from time_report_notebook.nb_helper_util import stack_bar, sunburst_tree_depth_2\n",
    "sunburst_tree_depth_2(report=report, match_dict_key=\"exercise\")\n",
    "stack_bar(report=report, match_dict_key=\"exercise\")"
   ]
  },
  {
   "cell_type": "code",
   "execution_count": null,
   "id": "52d38925",
   "metadata": {},
   "outputs": [],
   "source": [
    "from time_report_notebook.nb_helper_util import stack_bar, sunburst_tree_depth_2\n",
    "\n",
    "sunburst_tree_depth_2(report=report, match_dict_key=\"sex_all\")\n",
    "stack_bar(report=report, match_dict_key=\"sex_all\")"
   ]
  },
  {
   "cell_type": "code",
   "execution_count": null,
   "id": "f51fcfa8",
   "metadata": {},
   "outputs": [],
   "source": [
    "from time_report_notebook.nb_helper_util import stack_bar, sunburst_tree_depth_2\n",
    "\n",
    "sunburst_tree_depth_2(report=report, match_dict_key=\"calm\")\n",
    "stack_bar(report=report, match_dict_key=\"calm\")"
   ]
  },
  {
   "cell_type": "code",
   "execution_count": null,
   "id": "5cf09f0c",
   "metadata": {},
   "outputs": [],
   "source": [
    "from time_report_notebook.nb_helper_util import stack_bar, sunburst_tree_depth_2\n",
    "\n",
    "sunburst_tree_depth_2(report=report, match_dict_key=\"intangible\")\n",
    "stack_bar(report=report, match_dict_key=\"intangible\")"
   ]
  },
  {
   "cell_type": "code",
   "execution_count": null,
   "id": "4bb19eba",
   "metadata": {},
   "outputs": [],
   "source": [
    "from time_report_notebook.nb_helper_util import stack_bar, sunburst_tree_depth_2\n",
    "\n",
    "sunburst_tree_depth_2(report=report, match_dict_key=\"regret\")\n",
    "stack_bar(report=report, match_dict_key=\"regret\")"
   ]
  },
  {
   "cell_type": "code",
   "execution_count": null,
   "id": "2616a9f0",
   "metadata": {},
   "outputs": [],
   "source": [
    "from time_report_notebook.nb_helper_util import stack_bar, sunburst_tree_depth_2\n",
    "\n",
    "sunburst_tree_depth_2(report=report, match_dict_key=\"solitude\")\n",
    "stack_bar(report=report, match_dict_key=\"solitude\")"
   ]
  },
  {
   "cell_type": "code",
   "execution_count": null,
   "id": "63aa3cb1",
   "metadata": {
    "scrolled": false
   },
   "outputs": [],
   "source": [
    "from time_report_notebook.nb_helper_util import stack_bar, sunburst_tree_depth_2\n",
    "\n",
    "sunburst_tree_depth_2(report=report, match_dict_key=\"routine_all\")\n",
    "stack_bar(report=report, match_dict_key=\"routine_all\")"
   ]
  },
  {
   "cell_type": "code",
   "execution_count": null,
   "id": "87ad87e4",
   "metadata": {},
   "outputs": [],
   "source": [
    "# put sleep chart and wakeup bed timestamp plot together to find correlation\n",
    "from time_report_notebook.nb_helper_sleep import stack_bar_sleep_all\n",
    "\n",
    "stack_bar_sleep_all(report)"
   ]
  },
  {
   "cell_type": "code",
   "execution_count": null,
   "id": "1a492917",
   "metadata": {},
   "outputs": [],
   "source": [
    "from time_report_notebook.nb_helper_event import draw_wakeup_plot, draw_bed_plot\n",
    "draw_wakeup_plot(report)\n",
    "draw_bed_plot(report)"
   ]
  },
  {
   "cell_type": "code",
   "execution_count": null,
   "id": "c8b68241",
   "metadata": {},
   "outputs": [],
   "source": [
    "# from IPython.core.display import HTML\n",
    "# def css_styling():\n",
    "#     styles = open(\"custom.css\", \"r\").read() #or edit path to custom.css\n",
    "#     return HTML(styles)\n",
    "# css_styling()"
   ]
  },
  {
   "cell_type": "code",
   "execution_count": null,
   "id": "5ffb235a",
   "metadata": {},
   "outputs": [],
   "source": []
  }
 ],
 "metadata": {
  "kernelspec": {
   "display_name": "Python 3 (ipykernel)",
   "language": "python",
   "name": "python3"
  },
  "language_info": {
   "codemirror_mode": {
    "name": "ipython",
    "version": 3
   },
   "file_extension": ".py",
   "mimetype": "text/x-python",
   "name": "python",
   "nbconvert_exporter": "python",
   "pygments_lexer": "ipython3",
   "version": "3.10.6"
  }
 },
 "nbformat": 4,
 "nbformat_minor": 5
}
