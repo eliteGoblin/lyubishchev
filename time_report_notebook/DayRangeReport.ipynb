{
 "cells": [
  {
   "cell_type": "code",
   "execution_count": null,
   "id": "86dfea8b",
   "metadata": {
    "scrolled": true
   },
   "outputs": [],
   "source": [
    "import os\n",
    "import sys\n",
    "import numpy as np\n",
    "from icecream import ic\n",
    "\n",
    "module_path = os.path.abspath(os.path.join('.'))\n",
    "if module_path not in sys.path:\n",
    "    sys.path.append(module_path)\n",
    "    \n",
    "module_path = os.path.abspath(os.path.join('..'))\n",
    "if module_path not in sys.path:\n",
    "    sys.path.append(module_path)\n",
    "\n",
    "from lyubishchev.cli import last\n",
    "from lyubishchev.report import get_highlights\n",
    "\n",
    "report = last(14)\n",
    "high_lights = get_highlights(report)"
   ]
  },
  {
   "cell_type": "code",
   "execution_count": null,
   "id": "8357be2e",
   "metadata": {},
   "outputs": [],
   "source": [
    "from time_report_notebook import show_time_intervals_stat_as_piechart\n",
    "show_time_intervals_stat_as_piechart(report)"
   ]
  },
  {
   "cell_type": "code",
   "execution_count": null,
   "id": "6bd47da4",
   "metadata": {},
   "outputs": [],
   "source": [
    "from time_report_notebook import (\n",
    "    sunburst_effective_output,\n",
    "    draw_bars_effective_output\n",
    ")\n",
    "sunburst_effective_output(report)\n",
    "draw_bars_effective_output(report)"
   ]
  },
  {
   "cell_type": "code",
   "execution_count": null,
   "id": "2993d676",
   "metadata": {},
   "outputs": [],
   "source": [
    "from time_report_notebook import (\n",
    "    sunburst_exercise,\n",
    "    stack_bar_exercise,\n",
    ")\n",
    "sunburst_exercise(report)\n",
    "stack_bar_exercise(report)"
   ]
  },
  {
   "cell_type": "code",
   "execution_count": null,
   "id": "f51fcfa8",
   "metadata": {},
   "outputs": [],
   "source": [
    "# # self calm\n",
    "# draw_bars_chart(\n",
    "#     dates=report.dates(),G\n",
    "#     day_timestamps=report.get_event_metrics()[\"wakeup\"],\n",
    "#     bar_list={\n",
    "#         \"exercise\": {\n",
    "#             \"color\": \"#07731e\",\n",
    "#             \"time_span_minutes\": time_interval_metrics[\"exercise\"],\n",
    "#         },\n",
    "#         \"meditation\": {\n",
    "#             \"color\": \"#1752bf\",\n",
    "#             \"time_span_minutes\": time_interval_metrics[\"meditation\"],\n",
    "#         },\n",
    "#         \"walk\": {\n",
    "#             \"color\": \"#8a6207\",\n",
    "#             \"time_span_minutes\": time_interval_metrics[\"walk\"],\n",
    "#         },\n",
    "#     }\n",
    "# )"
   ]
  },
  {
   "cell_type": "code",
   "execution_count": null,
   "id": "a3a497fd",
   "metadata": {},
   "outputs": [],
   "source": [
    "# # sleep\n",
    "# draw_bars_chart(\n",
    "#     dates=report.dates(),\n",
    "#     day_timestamps=report.get_event_metrics()[\"wakeup\"],\n",
    "#     bar_list={\n",
    "#         \"night_sleep\": {\n",
    "#             \"color\": \"green\",\n",
    "#             \"time_span_minutes\": time_interval_metrics[\"sleep\"][\"night_sleep\"],\n",
    "#         },\n",
    "#         \"nap\": {\n",
    "#             \"color\": \"blue\",\n",
    "#             \"time_span_minutes\": time_interval_metrics[\"sleep\"][\"nap\"],\n",
    "#         },\n",
    "#     }\n",
    "# )"
   ]
  },
  {
   "cell_type": "code",
   "execution_count": null,
   "id": "3bfbef57",
   "metadata": {},
   "outputs": [],
   "source": [
    "# # human connection: sex, connection, joyful\n",
    "# draw_bars_chart(\n",
    "#     dates=report.dates(),\n",
    "#     day_timestamps=report.get_event_metrics()[\"wakeup\"],\n",
    "#     bar_list={\n",
    "#         \"sex\": {\n",
    "#             \"color\": \"#c70838\",\n",
    "#             \"time_span_minutes\": time_interval_metrics[\"sex\"],\n",
    "#         },\n",
    "#         \"connection\": {\n",
    "#             \"color\": \"#08c76b\",\n",
    "#             \"time_span_minutes\": time_interval_metrics[\"connection\"],\n",
    "#         }\n",
    "#     }\n",
    "# )"
   ]
  },
  {
   "cell_type": "code",
   "execution_count": null,
   "id": "5039beaf",
   "metadata": {},
   "outputs": [],
   "source": [
    "# # time I regret spent: numb, dispute, pmo\n",
    "# draw_bars_chart(\n",
    "#     dates=report.dates(),\n",
    "#     day_timestamps=report.get_event_metrics()[\"wakeup\"],\n",
    "#     bar_list={\n",
    "#         \"pmo\": {\n",
    "#             \"color\": \"#f20707\",\n",
    "#             \"time_span_minutes\": time_interval_metrics[\"pmo\"],\n",
    "#         },\n",
    "#         \"numb\": {\n",
    "#             \"color\": \"#2d2a75\",\n",
    "#             \"time_span_minutes\": time_interval_metrics[\"numb\"],\n",
    "#         },\n",
    "#         \"dispute\": {\n",
    "#             \"color\": \"#9ab336\",\n",
    "#             \"time_span_minutes\": time_interval_metrics[\"dispute\"],\n",
    "#         },\n",
    "#     }\n",
    "# )"
   ]
  },
  {
   "cell_type": "code",
   "execution_count": null,
   "id": "9c0534f7",
   "metadata": {},
   "outputs": [],
   "source": [
    "# # Time for routine\n",
    "# draw_bars_chart(\n",
    "#     dates=report.dates(),\n",
    "#     day_timestamps=report.get_event_metrics()[\"wakeup\"],\n",
    "#     bar_list={\n",
    "#         \"routine\": {\n",
    "#             \"color\": \"#25a2b3\",\n",
    "#             \"time_span_minutes\": time_interval_metrics[\"routine\"],\n",
    "#         },\n",
    "#     }\n",
    "# )"
   ]
  },
  {
   "cell_type": "code",
   "execution_count": null,
   "id": "1a492917",
   "metadata": {},
   "outputs": [],
   "source": [
    "# draw_wakeup_plot(\n",
    "#     wakeup_timestamps=report.get_event_metrics()[\"wakeup\"],\n",
    "#     dates=report.dates(),\n",
    "# )\n",
    "# draw_bed_plot(\n",
    "#     bed_timestamps=report.get_event_metrics()[\"bed\"],\n",
    "#     dates=report.dates(),\n",
    "# )"
   ]
  },
  {
   "cell_type": "code",
   "execution_count": null,
   "id": "70da123d",
   "metadata": {},
   "outputs": [],
   "source": []
  }
 ],
 "metadata": {
  "kernelspec": {
   "display_name": "Python 3 (ipykernel)",
   "language": "python",
   "name": "python3"
  },
  "language_info": {
   "codemirror_mode": {
    "name": "ipython",
    "version": 3
   },
   "file_extension": ".py",
   "mimetype": "text/x-python",
   "name": "python",
   "nbconvert_exporter": "python",
   "pygments_lexer": "ipython3",
   "version": "3.10.6"
  }
 },
 "nbformat": 4,
 "nbformat_minor": 5
}
