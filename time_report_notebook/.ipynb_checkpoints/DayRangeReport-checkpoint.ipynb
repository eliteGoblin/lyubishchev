{
 "cells": [
  {
   "cell_type": "code",
   "execution_count": 1,
   "id": "86dfea8b",
   "metadata": {
    "scrolled": true
   },
   "outputs": [
    {
     "name": "stdout",
     "output_type": "stream",
     "text": [
      "['/home/fsun/git_repo/lyubishchev/time_report_notebook', '/usr/lib/python310.zip', '/usr/lib/python3.10', '/usr/lib/python3.10/lib-dynload', '', '/home/fsun/git_repo/lyubishchev/.venv/lib/python3.10/site-packages', '/home/fsun/git_repo/lyubishchev']\n"
     ]
    }
   ],
   "source": [
    "import os\n",
    "import sys\n",
    "import importlib\n",
    "\n",
    "module_path = os.path.abspath(os.path.join('.'))\n",
    "if module_path not in sys.path:\n",
    "    sys.path.append(module_path)\n",
    "    \n",
    "module_path = os.path.abspath(os.path.join('..'))\n",
    "if module_path not in sys.path:\n",
    "    sys.path.append(module_path)\n",
    "    \n",
    "print(sys.path)\n",
    "\n",
    "from lyubishchev.cli import last\n",
    "from lyubishchev.report import get_highlights\n",
    "from time_report_notebook import draw_bars_chart\n",
    "from nb_helper_time_stats import show_time_stat_as_piechart\n",
    "from nb_helper_event import draw_wakeup_plot, draw_bed_plot\n",
    "\n",
    "from icecream import ic\n",
    "ic.disable()\n",
    "\n",
    "report = last(7)\n",
    "time_interval_metrics = report.get_interval_metrics()\n",
    "\n",
    "high_lights = get_highlights(report)\n",
    "\n",
    "ic(high_lights)"
   ]
  },
  {
   "cell_type": "code",
   "execution_count": null,
   "id": "8357be2e",
   "metadata": {},
   "outputs": [],
   "source": [
    "show_time_stat_as_piechart(report.get_time_stats())"
   ]
  },
  {
   "cell_type": "code",
   "execution_count": null,
   "id": "8dc86040",
   "metadata": {},
   "outputs": [],
   "source": [
    "# effective output\n",
    "draw_bars_chart(\n",
    "    dates=report.dates(),\n",
    "    day_timestamps=report.get_event_metrics()[\"wakeup\"],\n",
    "    bar_list={\n",
    "        \"self_improving\": {\n",
    "            \"color\": \"green\",\n",
    "            \"time_span_minutes\": time_interval_metrics[\"effective_output\"][\"self_improving\"],\n",
    "        },\n",
    "        \"work\": {\n",
    "            \"color\": \"blue\",\n",
    "            \"time_span_minutes\": time_interval_metrics[\"effective_output\"][\"work\"],\n",
    "        },\n",
    "    }\n",
    ")\n",
    "\n",
    "print(\"effective_output:\\t\\t\", high_lights[\"effective_output\"])\n",
    "print(\"self_improving:\\t\\t\\t\", high_lights[\"self_improving\"])\n",
    "print(\"work:\\t\\t\\t\\t\", high_lights[\"work\"])"
   ]
  },
  {
   "cell_type": "code",
   "execution_count": null,
   "id": "f51fcfa8",
   "metadata": {},
   "outputs": [],
   "source": [
    "# self calm\n",
    "draw_bars_chart(\n",
    "    dates=report.dates(),\n",
    "    day_timestamps=report.get_event_metrics()[\"wakeup\"],\n",
    "    bar_list={\n",
    "        \"exercise\": {\n",
    "            \"color\": \"#07731e\",\n",
    "            \"time_span_minutes\": time_interval_metrics[\"exercise\"],\n",
    "        },\n",
    "        \"meditation\": {\n",
    "            \"color\": \"#1752bf\",\n",
    "            \"time_span_minutes\": time_interval_metrics[\"meditation\"],\n",
    "        },\n",
    "        \"walk\": {\n",
    "            \"color\": \"#8a6207\",\n",
    "            \"time_span_minutes\": time_interval_metrics[\"walk\"],\n",
    "        },\n",
    "    }\n",
    ")"
   ]
  },
  {
   "cell_type": "code",
   "execution_count": null,
   "id": "a3a497fd",
   "metadata": {},
   "outputs": [],
   "source": [
    "# sleep\n",
    "draw_bars_chart(\n",
    "    dates=report.dates(),\n",
    "    day_timestamps=report.get_event_metrics()[\"wakeup\"],\n",
    "    bar_list={\n",
    "        \"night_sleep\": {\n",
    "            \"color\": \"green\",\n",
    "            \"time_span_minutes\": time_interval_metrics[\"sleep\"][\"night_sleep\"],\n",
    "        },\n",
    "        \"nap\": {\n",
    "            \"color\": \"blue\",\n",
    "            \"time_span_minutes\": time_interval_metrics[\"sleep\"][\"nap\"],\n",
    "        },\n",
    "    }\n",
    ")"
   ]
  },
  {
   "cell_type": "code",
   "execution_count": null,
   "id": "3bfbef57",
   "metadata": {},
   "outputs": [],
   "source": [
    "# human connection: sex, connection, joyful\n",
    "draw_bars_chart(\n",
    "    dates=report.dates(),\n",
    "    day_timestamps=report.get_event_metrics()[\"wakeup\"],\n",
    "    bar_list={\n",
    "        \"sex\": {\n",
    "            \"color\": \"#c70838\",\n",
    "            \"time_span_minutes\": time_interval_metrics[\"sex\"],\n",
    "        },\n",
    "        \"connection\": {\n",
    "            \"color\": \"#08c76b\",\n",
    "            \"time_span_minutes\": time_interval_metrics[\"connection\"],\n",
    "        }\n",
    "    }\n",
    ")"
   ]
  },
  {
   "cell_type": "code",
   "execution_count": null,
   "id": "5039beaf",
   "metadata": {},
   "outputs": [],
   "source": [
    "# time I regret spent: numb, dispute, pmo\n",
    "draw_bars_chart(\n",
    "    dates=report.dates(),\n",
    "    day_timestamps=report.get_event_metrics()[\"wakeup\"],\n",
    "    bar_list={\n",
    "        \"pmo\": {\n",
    "            \"color\": \"#f20707\",\n",
    "            \"time_span_minutes\": time_interval_metrics[\"pmo\"],\n",
    "        },\n",
    "        \"numb\": {\n",
    "            \"color\": \"#2d2a75\",\n",
    "            \"time_span_minutes\": time_interval_metrics[\"numb\"],\n",
    "        },\n",
    "        \"dispute\": {\n",
    "            \"color\": \"#9ab336\",\n",
    "            \"time_span_minutes\": time_interval_metrics[\"dispute\"],\n",
    "        },\n",
    "    }\n",
    ")"
   ]
  },
  {
   "cell_type": "code",
   "execution_count": null,
   "id": "9c0534f7",
   "metadata": {},
   "outputs": [],
   "source": [
    "# Time for routine\n",
    "draw_bars_chart(\n",
    "    dates=report.dates(),\n",
    "    day_timestamps=report.get_event_metrics()[\"wakeup\"],\n",
    "    bar_list={\n",
    "        \"routine\": {\n",
    "            \"color\": \"#25a2b3\",\n",
    "            \"time_span_minutes\": time_interval_metrics[\"routine\"],\n",
    "        },\n",
    "    }\n",
    ")"
   ]
  },
  {
   "cell_type": "code",
   "execution_count": null,
   "id": "1a492917",
   "metadata": {},
   "outputs": [],
   "source": [
    "draw_wakeup_plot(\n",
    "    wakeup_timestamps=report.get_event_metrics()[\"wakeup\"],\n",
    "    dates=report.dates(),\n",
    ")\n",
    "draw_bed_plot(\n",
    "    bed_timestamps=report.get_event_metrics()[\"bed\"],\n",
    "    dates=report.dates(),\n",
    ")"
   ]
  },
  {
   "cell_type": "code",
   "execution_count": null,
   "id": "4a7401ab",
   "metadata": {},
   "outputs": [],
   "source": [
    "import matplotlib.pyplot as plt\n",
    "\n",
    "# Outer pie chart data\n",
    "outer_data = [8, 8, 4, 4]\n",
    "outer_labels = ['Sleep', 'Work', 'Leisure', 'Other']\n",
    "\n",
    "# Inner pie chart data (for Sleep partition)\n",
    "inner_data = [6, 2]\n",
    "inner_labels = ['Night Sleep', 'Nap']\n",
    "\n",
    "# Define colors for both pie charts\n",
    "outer_colors = ['lightblue', 'orange', 'lightgreen', 'gray']\n",
    "inner_colors = ['blue', 'cyan']\n",
    "\n",
    "# Draw the outer pie chart\n",
    "fig, ax = plt.subplots()\n",
    "ax.pie(outer_data, labels=outer_labels, colors=outer_colors, radius=1, wedgeprops=dict(width=0.3, edgecolor='white'))\n",
    "\n",
    "# Draw the inner pie chart\n",
    "ax.pie(inner_data, labels=inner_labels, colors=inner_colors, radius=0.7, wedgeprops=dict(width=0.3, edgecolor='white'))\n",
    "\n",
    "ax.set_aspect('equal')  # Set aspect ratio to 'equal' to make the pie chart circular\n",
    "\n",
    "plt.show()\n"
   ]
  },
  {
   "cell_type": "code",
   "execution_count": null,
   "id": "8b129c4e",
   "metadata": {},
   "outputs": [],
   "source": []
  }
 ],
 "metadata": {
  "kernelspec": {
   "display_name": "Python 3 (ipykernel)",
   "language": "python",
   "name": "python3"
  },
  "language_info": {
   "codemirror_mode": {
    "name": "ipython",
    "version": 3
   },
   "file_extension": ".py",
   "mimetype": "text/x-python",
   "name": "python",
   "nbconvert_exporter": "python",
   "pygments_lexer": "ipython3",
   "version": "3.10.6"
  }
 },
 "nbformat": 4,
 "nbformat_minor": 5
}
